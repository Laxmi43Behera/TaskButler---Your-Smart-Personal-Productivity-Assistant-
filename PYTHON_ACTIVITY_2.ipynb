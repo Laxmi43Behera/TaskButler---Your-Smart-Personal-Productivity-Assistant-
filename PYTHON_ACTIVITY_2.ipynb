{
  "nbformat": 4,
  "nbformat_minor": 0,
  "metadata": {
    "colab": {
      "provenance": []
    },
    "kernelspec": {
      "name": "python3",
      "display_name": "Python 3"
    },
    "language_info": {
      "name": "python"
    }
  },
  "cells": [
    {
      "cell_type": "code",
      "source": [
        "# 🧠 TaskButler: Your Smart Personal Productivity Assistant\n",
        "'A mini Python project that analyzes user input, sets priorities, tracks time spent on tasks, and suggests improvements — powered by NLP and Data Analytics.'\n"
      ],
      "metadata": {
        "id": "Cpa_YrkK2nwW"
      },
      "execution_count": null,
      "outputs": []
    },
    {
      "cell_type": "code",
      "source": [
        "'''🎯 Project Objective:\n",
        "- Help users organize their tasks\n",
        "- Predict completion time based on past habits\n",
        "- Prioritize tasks smartly using basic NLP\n",
        "- Give performance insights using data visualizations'''"
      ],
      "metadata": {
        "id": "dPjccrOC2wvM"
      },
      "execution_count": null,
      "outputs": []
    },
    {
      "cell_type": "code",
      "source": [
        "!pip install nltk\n",
        "!pip install pandas\n",
        "!pip install numpy\n",
        "!pip install matplotlib\n",
        "!pip install seaborn\n",
        "import pandas as pd\n",
        "import numpy as np\n",
        "import matplotlib.pyplot as plt\n",
        "import seaborn as sns\n",
        "import nltk\n",
        "import re\n",
        "from datetime import datetime\n",
        "nltk.download('punkt')"
      ],
      "metadata": {
        "colab": {
          "base_uri": "https://localhost:8080/"
        },
        "id": "fTP2g-Go21nq",
        "outputId": "3dc6e8bb-4783-4405-c8bb-78099dbd8613"
      },
      "execution_count": null,
      "outputs": [
        {
          "output_type": "stream",
          "name": "stdout",
          "text": [
            "Requirement already satisfied: nltk in /usr/local/lib/python3.11/dist-packages (3.9.1)\n",
            "Requirement already satisfied: click in /usr/local/lib/python3.11/dist-packages (from nltk) (8.1.8)\n",
            "Requirement already satisfied: joblib in /usr/local/lib/python3.11/dist-packages (from nltk) (1.4.2)\n",
            "Requirement already satisfied: regex>=2021.8.3 in /usr/local/lib/python3.11/dist-packages (from nltk) (2024.11.6)\n",
            "Requirement already satisfied: tqdm in /usr/local/lib/python3.11/dist-packages (from nltk) (4.67.1)\n",
            "Requirement already satisfied: pandas in /usr/local/lib/python3.11/dist-packages (2.2.2)\n",
            "Requirement already satisfied: numpy>=1.23.2 in /usr/local/lib/python3.11/dist-packages (from pandas) (2.0.2)\n",
            "Requirement already satisfied: python-dateutil>=2.8.2 in /usr/local/lib/python3.11/dist-packages (from pandas) (2.8.2)\n",
            "Requirement already satisfied: pytz>=2020.1 in /usr/local/lib/python3.11/dist-packages (from pandas) (2025.2)\n",
            "Requirement already satisfied: tzdata>=2022.7 in /usr/local/lib/python3.11/dist-packages (from pandas) (2025.2)\n",
            "Requirement already satisfied: six>=1.5 in /usr/local/lib/python3.11/dist-packages (from python-dateutil>=2.8.2->pandas) (1.17.0)\n",
            "Requirement already satisfied: numpy in /usr/local/lib/python3.11/dist-packages (2.0.2)\n",
            "Requirement already satisfied: matplotlib in /usr/local/lib/python3.11/dist-packages (3.10.0)\n",
            "Requirement already satisfied: contourpy>=1.0.1 in /usr/local/lib/python3.11/dist-packages (from matplotlib) (1.3.1)\n",
            "Requirement already satisfied: cycler>=0.10 in /usr/local/lib/python3.11/dist-packages (from matplotlib) (0.12.1)\n",
            "Requirement already satisfied: fonttools>=4.22.0 in /usr/local/lib/python3.11/dist-packages (from matplotlib) (4.56.0)\n",
            "Requirement already satisfied: kiwisolver>=1.3.1 in /usr/local/lib/python3.11/dist-packages (from matplotlib) (1.4.8)\n",
            "Requirement already satisfied: numpy>=1.23 in /usr/local/lib/python3.11/dist-packages (from matplotlib) (2.0.2)\n",
            "Requirement already satisfied: packaging>=20.0 in /usr/local/lib/python3.11/dist-packages (from matplotlib) (24.2)\n",
            "Requirement already satisfied: pillow>=8 in /usr/local/lib/python3.11/dist-packages (from matplotlib) (11.1.0)\n",
            "Requirement already satisfied: pyparsing>=2.3.1 in /usr/local/lib/python3.11/dist-packages (from matplotlib) (3.2.3)\n",
            "Requirement already satisfied: python-dateutil>=2.7 in /usr/local/lib/python3.11/dist-packages (from matplotlib) (2.8.2)\n",
            "Requirement already satisfied: six>=1.5 in /usr/local/lib/python3.11/dist-packages (from python-dateutil>=2.7->matplotlib) (1.17.0)\n",
            "Requirement already satisfied: seaborn in /usr/local/lib/python3.11/dist-packages (0.13.2)\n",
            "Requirement already satisfied: numpy!=1.24.0,>=1.20 in /usr/local/lib/python3.11/dist-packages (from seaborn) (2.0.2)\n",
            "Requirement already satisfied: pandas>=1.2 in /usr/local/lib/python3.11/dist-packages (from seaborn) (2.2.2)\n",
            "Requirement already satisfied: matplotlib!=3.6.1,>=3.4 in /usr/local/lib/python3.11/dist-packages (from seaborn) (3.10.0)\n",
            "Requirement already satisfied: contourpy>=1.0.1 in /usr/local/lib/python3.11/dist-packages (from matplotlib!=3.6.1,>=3.4->seaborn) (1.3.1)\n",
            "Requirement already satisfied: cycler>=0.10 in /usr/local/lib/python3.11/dist-packages (from matplotlib!=3.6.1,>=3.4->seaborn) (0.12.1)\n",
            "Requirement already satisfied: fonttools>=4.22.0 in /usr/local/lib/python3.11/dist-packages (from matplotlib!=3.6.1,>=3.4->seaborn) (4.56.0)\n",
            "Requirement already satisfied: kiwisolver>=1.3.1 in /usr/local/lib/python3.11/dist-packages (from matplotlib!=3.6.1,>=3.4->seaborn) (1.4.8)\n",
            "Requirement already satisfied: packaging>=20.0 in /usr/local/lib/python3.11/dist-packages (from matplotlib!=3.6.1,>=3.4->seaborn) (24.2)\n",
            "Requirement already satisfied: pillow>=8 in /usr/local/lib/python3.11/dist-packages (from matplotlib!=3.6.1,>=3.4->seaborn) (11.1.0)\n",
            "Requirement already satisfied: pyparsing>=2.3.1 in /usr/local/lib/python3.11/dist-packages (from matplotlib!=3.6.1,>=3.4->seaborn) (3.2.3)\n",
            "Requirement already satisfied: python-dateutil>=2.7 in /usr/local/lib/python3.11/dist-packages (from matplotlib!=3.6.1,>=3.4->seaborn) (2.8.2)\n",
            "Requirement already satisfied: pytz>=2020.1 in /usr/local/lib/python3.11/dist-packages (from pandas>=1.2->seaborn) (2025.2)\n",
            "Requirement already satisfied: tzdata>=2022.7 in /usr/local/lib/python3.11/dist-packages (from pandas>=1.2->seaborn) (2025.2)\n",
            "Requirement already satisfied: six>=1.5 in /usr/local/lib/python3.11/dist-packages (from python-dateutil>=2.7->matplotlib!=3.6.1,>=3.4->seaborn) (1.17.0)\n"
          ]
        },
        {
          "output_type": "stream",
          "name": "stderr",
          "text": [
            "[nltk_data] Downloading package punkt to /root/nltk_data...\n",
            "[nltk_data]   Package punkt is already up-to-date!\n"
          ]
        }
      ]
    },
    {
      "cell_type": "code",
      "source": [
        "import nltk\n",
        "import pandas as pd\n",
        "import numpy as np\n",
        "import matplotlib.pyplot as plt\n",
        "import seaborn as sns\n",
        "from datetime import datetime\n",
        "\n",
        "class TaskButler:\n",
        "    def __init__(self):\n",
        "        self.tasks = []\n",
        "\n",
        "    def _sass(self, message):\n",
        "        responses = [\n",
        "            \"Oh wow, you’re actually doing something? I'm shook.\",\n",
        "            \"Another task? Darling, are you trying to impress someone?\",\n",
        "            \"I'll add it, but I won't pretend it's a good idea.\",\n",
        "            \"Deadline? Honey, you already missed three.\",\n",
        "            \"Noted. Now let's see if you'll *actually* finish it.\"\n",
        "        ]\n",
        "        print(\"Butler 🤯:\", message)\n",
        "        print(\"Butler 👔:\", message)\n",
        "        print(\"Butler 🥂:\", np.random.choice(responses))\n",
        "\n",
        "    def _calculate_priority(self, task_description, deadline=None):\n",
        "        import nltk.data\n",
        "\n",
        "        keywords = {\n",
        "            'urgent': 5, 'immediate': 5, 'asap': 5, 'now': 5,\n",
        "            'important': 4, 'project': 4, 'exam': 4,\n",
        "            'soon': 3, 'meeting': 3, 'assignment': 3,\n",
        "            'later': 1, 'someday': 1\n",
        "        }\n",
        "\n",
        "        score = 0\n",
        "\n",
        "        # Ensure punkt is available\n",
        "        try:\n",
        "            nltk.data.find('tokenizers/punkt')\n",
        "        except LookupError:\n",
        "            print(\"Downloading NLTK punkt tokenizer...\")\n",
        "            nltk.download('punkt')\n",
        "\n",
        "        try:\n",
        "            tokens = nltk.word_tokenize(task_description.lower())\n",
        "        except Exception as e:\n",
        "            print(f\"Tokenization failed: {e}\")\n",
        "            tokens = []\n",
        "\n",
        "        for word in tokens:\n",
        "            score += keywords.get(word, 0)\n",
        "\n",
        "        if deadline:\n",
        "            try:\n",
        "                days_left = (datetime.strptime(deadline, \"%Y-%m-%d\") - datetime.today()).days\n",
        "                if days_left <= 1:\n",
        "                    score += 5\n",
        "                elif days_left <= 3:\n",
        "                    score += 3\n",
        "                elif days_left <= 7:\n",
        "                    score += 1\n",
        "            except Exception as e:\n",
        "                print(f\"Error parsing deadline: {e}\")\n",
        "\n",
        "        return score\n",
        "\n",
        "    def add_task(self, description, deadline):\n",
        "        score = self._calculate_priority(description, deadline)\n",
        "        try:\n",
        "            deadline_date = datetime.strptime(deadline, \"%Y-%m-%d\").date()\n",
        "            days_left = (deadline_date - datetime.today().date()).days\n",
        "            urgency = '🚨 High' if days_left <= 2 else '⚠️ Medium' if days_left <= 5 else '✅ Low'\n",
        "        except ValueError:\n",
        "            urgency = '❗ Invalid Date'\n",
        "            days_left = 'Invalid'\n",
        "\n",
        "        task = {\n",
        "            \"Task\": description,\n",
        "            \"Deadline\": deadline,\n",
        "            \"Priority Score\": score,\n",
        "            \"Urgency\": urgency,\n",
        "            \"Days Left\": days_left\n",
        "        }\n",
        "\n",
        "        self.tasks.append(task)\n",
        "        self._sass(f\"Task added: '{description}' with a deadline on {deadline}\")\n",
        "\n",
        "    def list_tasks(self):\n",
        "        if not self.tasks:\n",
        "            print(\"Butler 👔: You have no tasks. You must be proud of your procrastination.\")\n",
        "            return\n",
        "        df = pd.DataFrame(self.tasks)\n",
        "        print(\"\\n🗂️ Your Task Dashboard:\\n\")\n",
        "        print(df)\n",
        "\n",
        "    def mark_task_done(self, description):\n",
        "        before = len(self.tasks)\n",
        "        self.tasks = [t for t in self.tasks if t['Task'].lower() != description.lower()]\n",
        "        after = len(self.tasks)\n",
        "        print(f\"Task marked as done and removed: '{description}'\") if before != after else print(\"Task not found.\")\n",
        "\n",
        "    def remove_task(self, description):\n",
        "        self.mark_task_done(description)\n",
        "\n",
        "    def export_tasks(self, filename=\"taskbutler_tasks.csv\"):\n",
        "        if not self.tasks:\n",
        "            print(\"Butler 💾: No tasks to export. Are you even trying?\")\n",
        "            return\n",
        "        df = pd.DataFrame(self.tasks)\n",
        "        df.to_csv(filename, index=False)\n",
        "        print(f\"Butler 💾: Tasks exported to '{filename}'. Don't lose it like your motivation.\")\n",
        "\n",
        "    def roast_me(self):\n",
        "        if not self.tasks:\n",
        "            print(\"Butler 🥂: Shocking. Not a single task? Planning to fail gracefully, I see.\")\n",
        "        else:\n",
        "            worst = min(self.tasks, key=lambda x: x[\"Priority Score\"])\n",
        "            print(f\"Butler 🥂: If you're skipping anything... I bet it’s '{worst['Task']}'. As expected.\")\n",
        "\n",
        "    def view_upcoming_tasks(self, days=3):\n",
        "        today = datetime.today().date()\n",
        "        upcoming = [t for t in self.tasks if isinstance(t['Days Left'], int) and t['Days Left'] <= days]\n",
        "        if not upcoming:\n",
        "            print(f\"No tasks due in the next {days} days.\")\n",
        "        else:\n",
        "            print(f\"Tasks due in the next {days} days:\")\n",
        "            for task in upcoming:\n",
        "                print(f\"- {task['Task']} | Due: {task['Deadline']} | Urgency: {task['Urgency']}\")\n",
        "\n",
        "    def plot_priority_chart(self):\n",
        "        if not self.tasks:\n",
        "            print(\"No tasks to plot.\")\n",
        "            return\n",
        "        df = pd.DataFrame(self.tasks)\n",
        "        df = df.sort_values(by='Priority Score', ascending=False)\n",
        "        plt.figure(figsize=(10, 6))\n",
        "        sns.barplot(x='Priority Score', y='Task', data=df, palette='coolwarm')\n",
        "        plt.title('🧠 Task Priority Chart')\n",
        "        plt.xlabel('Priority Score')\n",
        "        plt.ylabel('Task')\n",
        "        plt.tight_layout()\n",
        "        plt.show()\n",
        "\n",
        "    def plot_urgency_distribution(self):\n",
        "        if not self.tasks:\n",
        "            print(\"No tasks to plot.\")\n",
        "            return\n",
        "        df = pd.DataFrame(self.tasks)\n",
        "        urgency_count = df['Urgency'].value_counts()\n",
        "        urgency_count.plot(kind='pie', autopct='%1.1f%%', startangle=90)\n",
        "        plt.title(\"Task Urgency Distribution\")\n",
        "        plt.ylabel('')\n",
        "        plt.show()\n",
        "\n",
        "    def generate_summary(self):\n",
        "        df = pd.DataFrame(self.tasks)\n",
        "        print(\"=== TASKBUTLER SUMMARY ===\")\n",
        "        print(\"\\nTotal Tasks:\", len(df))\n",
        "        print(\"\\nUrgency Breakdown:\")\n",
        "        print(df['Urgency'].value_counts())\n",
        "\n",
        "        with open(\"TaskButler_Report.txt\", \"w\") as file:\n",
        "            file.write(\"TASKBUTLER - TASK MANAGEMENT SYSTEM\\n\")\n",
        "            file.write(\"===================================\\n\\n\")\n",
        "            file.write(\"TASK LIST:\\n\")\n",
        "            for task in self.tasks:\n",
        "                file.write(f\"- {task['Task']} | Due: {task['Deadline']} | Urgency: {task['Urgency']}\\n\")\n",
        "\n",
        "\n",
        "# === USAGE === #\n",
        "butler = TaskButler()\n",
        "butler.add_task(\"Submit Python project by next week\", \"2025-04-14\")\n",
        "butler.add_task(\"Text him and then ignore\", \"2025-04-10\")\n",
        "butler.add_task(\"Schedule group discussion ASAP\", \"2025-04-09\")\n",
        "\n",
        "butler.list_tasks()\n",
        "butler.view_upcoming_tasks()\n",
        "butler.plot_priority_chart()\n",
        "butler.plot_urgency_distribution()\n",
        "butler.export_tasks()\n",
        "butler.generate_summary()\n",
        "butler.roast_me()\n",
        "butler.mark_task_done(\"Text him and then ignore\")\n",
        "butler.list_tasks()\n"
      ],
      "metadata": {
        "colab": {
          "base_uri": "https://localhost:8080/",
          "height": 1000
        },
        "id": "dhCUQ_bg5RM7",
        "outputId": "c7d7df3f-5464-44a9-97a2-fbf4133f1738"
      },
      "execution_count": null,
      "outputs": [
        {
          "output_type": "stream",
          "name": "stdout",
          "text": [
            "Tokenization failed: \n",
            "**********************************************************************\n",
            "  Resource \u001b[93mpunkt_tab\u001b[0m not found.\n",
            "  Please use the NLTK Downloader to obtain the resource:\n",
            "\n",
            "  \u001b[31m>>> import nltk\n",
            "  >>> nltk.download('punkt_tab')\n",
            "  \u001b[0m\n",
            "  For more information see: https://www.nltk.org/data.html\n",
            "\n",
            "  Attempted to load \u001b[93mtokenizers/punkt_tab/english/\u001b[0m\n",
            "\n",
            "  Searched in:\n",
            "    - '/root/nltk_data'\n",
            "    - '/usr/nltk_data'\n",
            "    - '/usr/share/nltk_data'\n",
            "    - '/usr/lib/nltk_data'\n",
            "    - '/usr/share/nltk_data'\n",
            "    - '/usr/local/share/nltk_data'\n",
            "    - '/usr/lib/nltk_data'\n",
            "    - '/usr/local/lib/nltk_data'\n",
            "**********************************************************************\n",
            "\n",
            "Butler 🤯: Task added: 'Submit Python project by next week' with a deadline on 2025-04-14\n",
            "Butler 👔: Task added: 'Submit Python project by next week' with a deadline on 2025-04-14\n",
            "Butler 🥂: Deadline? Honey, you already missed three.\n",
            "Tokenization failed: \n",
            "**********************************************************************\n",
            "  Resource \u001b[93mpunkt_tab\u001b[0m not found.\n",
            "  Please use the NLTK Downloader to obtain the resource:\n",
            "\n",
            "  \u001b[31m>>> import nltk\n",
            "  >>> nltk.download('punkt_tab')\n",
            "  \u001b[0m\n",
            "  For more information see: https://www.nltk.org/data.html\n",
            "\n",
            "  Attempted to load \u001b[93mtokenizers/punkt_tab/english/\u001b[0m\n",
            "\n",
            "  Searched in:\n",
            "    - '/root/nltk_data'\n",
            "    - '/usr/nltk_data'\n",
            "    - '/usr/share/nltk_data'\n",
            "    - '/usr/lib/nltk_data'\n",
            "    - '/usr/share/nltk_data'\n",
            "    - '/usr/local/share/nltk_data'\n",
            "    - '/usr/lib/nltk_data'\n",
            "    - '/usr/local/lib/nltk_data'\n",
            "**********************************************************************\n",
            "\n",
            "Butler 🤯: Task added: 'Text him and then ignore' with a deadline on 2025-04-10\n",
            "Butler 👔: Task added: 'Text him and then ignore' with a deadline on 2025-04-10\n",
            "Butler 🥂: Another task? Darling, are you trying to impress someone?\n",
            "Tokenization failed: \n",
            "**********************************************************************\n",
            "  Resource \u001b[93mpunkt_tab\u001b[0m not found.\n",
            "  Please use the NLTK Downloader to obtain the resource:\n",
            "\n",
            "  \u001b[31m>>> import nltk\n",
            "  >>> nltk.download('punkt_tab')\n",
            "  \u001b[0m\n",
            "  For more information see: https://www.nltk.org/data.html\n",
            "\n",
            "  Attempted to load \u001b[93mtokenizers/punkt_tab/english/\u001b[0m\n",
            "\n",
            "  Searched in:\n",
            "    - '/root/nltk_data'\n",
            "    - '/usr/nltk_data'\n",
            "    - '/usr/share/nltk_data'\n",
            "    - '/usr/lib/nltk_data'\n",
            "    - '/usr/share/nltk_data'\n",
            "    - '/usr/local/share/nltk_data'\n",
            "    - '/usr/lib/nltk_data'\n",
            "    - '/usr/local/lib/nltk_data'\n",
            "**********************************************************************\n",
            "\n",
            "Butler 🤯: Task added: 'Schedule group discussion ASAP' with a deadline on 2025-04-09\n",
            "Butler 👔: Task added: 'Schedule group discussion ASAP' with a deadline on 2025-04-09\n",
            "Butler 🥂: Oh wow, you’re actually doing something? I'm shook.\n",
            "\n",
            "🗂️ Your Task Dashboard:\n",
            "\n",
            "                                 Task    Deadline  Priority Score Urgency  \\\n",
            "0  Submit Python project by next week  2025-04-14               5  🚨 High   \n",
            "1            Text him and then ignore  2025-04-10               5  🚨 High   \n",
            "2      Schedule group discussion ASAP  2025-04-09               5  🚨 High   \n",
            "\n",
            "   Days Left  \n",
            "0         -7  \n",
            "1        -11  \n",
            "2        -12  \n",
            "Tasks due in the next 3 days:\n",
            "- Submit Python project by next week | Due: 2025-04-14 | Urgency: 🚨 High\n",
            "- Text him and then ignore | Due: 2025-04-10 | Urgency: 🚨 High\n",
            "- Schedule group discussion ASAP | Due: 2025-04-09 | Urgency: 🚨 High\n"
          ]
        },
        {
          "output_type": "stream",
          "name": "stderr",
          "text": [
            "<ipython-input-27-45642203b8d9>:136: FutureWarning: \n",
            "\n",
            "Passing `palette` without assigning `hue` is deprecated and will be removed in v0.14.0. Assign the `y` variable to `hue` and set `legend=False` for the same effect.\n",
            "\n",
            "  sns.barplot(x='Priority Score', y='Task', data=df, palette='coolwarm')\n",
            "<ipython-input-27-45642203b8d9>:140: UserWarning: Glyph 129504 (\\N{BRAIN}) missing from font(s) DejaVu Sans.\n",
            "  plt.tight_layout()\n",
            "/usr/local/lib/python3.11/dist-packages/IPython/core/pylabtools.py:151: UserWarning: Glyph 129504 (\\N{BRAIN}) missing from font(s) DejaVu Sans.\n",
            "  fig.canvas.print_figure(bytes_io, **kw)\n"
          ]
        },
        {
          "output_type": "display_data",
          "data": {
            "text/plain": [
              "<Figure size 1000x600 with 1 Axes>"
            ],
            "image/png": "[encoded data removed]"
          },
          "metadata": {}
        },
        {
          "output_type": "stream",
          "name": "stderr",
          "text": [
            "/usr/local/lib/python3.11/dist-packages/IPython/core/pylabtools.py:151: UserWarning: Glyph 128680 (\\N{POLICE CARS REVOLVING LIGHT}) missing from font(s) DejaVu Sans.\n",
            "  fig.canvas.print_figure(bytes_io, **kw)\n"
          ]
        },
        {
          "output_type": "display_data",
          "data": {
            "text/plain": [
              "<Figure size 640x480 with 1 Axes>"
            ],
            "image/png": "[encoded data removed]"
          },
          "metadata": {}
        },
        {
          "output_type": "stream",
          "name": "stdout",
          "text": [
            "Butler 💾: Tasks exported to 'taskbutler_tasks.csv'. Don't lose it like your motivation.\n",
            "=== TASKBUTLER SUMMARY ===\n",
            "\n",
            "Total Tasks: 3\n",
            "\n",
            "Urgency Breakdown:\n",
            "Urgency\n",
            "🚨 High    3\n",
            "Name: count, dtype: int64\n",
            "Butler 🥂: If you're skipping anything... I bet it’s 'Submit Python project by next week'. As expected.\n",
            "Task marked as done and removed: 'Text him and then ignore'\n",
            "\n",
            "🗂️ Your Task Dashboard:\n",
            "\n",
            "                                 Task    Deadline  Priority Score Urgency  \\\n",
            "0  Submit Python project by next week  2025-04-14               5  🚨 High   \n",
            "1      Schedule group discussion ASAP  2025-04-09               5  🚨 High   \n",
            "\n",
            "   Days Left  \n",
            "0         -7  \n",
            "1        -12  \n"
          ]
        }
      ]
    },
    {
      "cell_type": "code",
      "source": [
        "# --------------------- Execution --------------------- #\n",
        "\n",
        "\n",
        "\n",
        "butler = TaskButler()\n",
        "\n",
        "# Add sample tasks\n",
        "butler.add_task(\"Submit Python project by next week\", \"2025-04-14\")\n",
        "butler.add_task(\"Ignore him like he’s a spam call\", \"2025-04-08\")\n",
        "butler.add_task(\"Rule GD prep like a legend\", \"2025-04-10\")\n",
        "\n",
        "# Display task list\n",
        "print(\"\\n--- Task List ---\")\n",
        "butler.list_tasks()\n",
        "\n",
        "# Roast session\n",
        "print(\"\\n--- Roast ---\")\n",
        "butler.roast_me()\n",
        "\n",
        "# Export tasks\n",
        "print(\"\\n--- Exporting Tasks ---\")\n",
        "butler.export_tasks(\"TaskButler_Report.csv\")\n",
        "\n",
        "# Upcoming tasks\n",
        "print(\"\\n--- Upcoming Tasks (Next 3 Days) ---\")\n",
        "butler.view_upcoming_tasks()\n",
        "\n",
        "# Mark a task done\n",
        "print(\"\\n--- Marking Task as Done ---\")\n",
        "butler.mark_task_done(\"Ignore him like he’s a spam call\")\n",
        "\n",
        "# Final task summary\n",
        "print(\"\\n--- Final Summary ---\")\n",
        "butler.show_summary()\n"
      ],
      "metadata": {
        "colab": {
          "base_uri": "https://localhost:8080/"
        },
        "id": "mDIwoOnCHTSq",
        "outputId": "ce4ce073-aafd-4566-f670-03b4453b58fc"
      },
      "execution_count": null,
      "outputs": [
        {
          "output_type": "stream",
          "name": "stdout",
          "text": [
            "Butler 👔: Task added: 'Submit Python project by next week' with a deadline on 2025-04-14\n",
            "Butler 🥂: Another task? Darling, are you trying to impress someone?\n",
            "Butler 👔: Task added: 'Ignore him like he’s a spam call' with a deadline on 2025-04-08\n",
            "Butler 🥂: Noted. Now let's see if you'll *actually* finish it.\n",
            "Butler 👔: Task added: 'Rule GD prep like a legend' with a deadline on 2025-04-10\n",
            "Butler 🥂: I'll add it, but I won't pretend it's a good idea.\n",
            "\n",
            "--- Task List ---\n",
            "Butler 👔: Here’s your majestic list of undone tasks:\n",
            " 1. Submit Python project by next week - Due: 2025-04-14 | Score: 5 | Urgency: ✅ Low\n",
            " 2. Ignore him like he’s a spam call - Due: 2025-04-08 | Score: 5 | Urgency: 🚨 High\n",
            " 3. Rule GD prep like a legend - Due: 2025-04-10 | Score: 3 | Urgency: ⚠️ Medium\n",
            "\n",
            "--- Roast ---\n",
            "Butler 🥂: If you're skipping anything... I bet it’s 'Rule GD prep like a legend'. As expected.\n",
            "\n",
            "--- Exporting Tasks ---\n",
            "Butler 💾: Tasks exported to 'TaskButler_Report.csv'. Don't lose it like your motivation.\n",
            "\n",
            "--- Upcoming Tasks (Next 3 Days) ---\n",
            "Tasks due in the next 3 days:\n",
            "- Ignore him like he’s a spam call | Due: 2025-04-08 | Urgency: 🚨 High\n",
            "- Rule GD prep like a legend | Due: 2025-04-10 | Urgency: ⚠️ Medium\n",
            "\n",
            "--- Marking Task as Done ---\n",
            "Task marked as done and removed: 'Ignore him like he’s a spam call'\n",
            "\n",
            "--- Final Summary ---\n",
            "=== TASKBUTLER SUMMARY ===\n",
            "\n",
            "Total Tasks: 2\n",
            "\n",
            "Urgency Breakdown:\n",
            "Urgency\n",
            "✅ Low        1\n",
            "⚠️ Medium    1\n",
            "Name: count, dtype: int64\n"
          ]
        }
      ]
    },
    {
      "cell_type": "code",
      "source": [
        "print(\"\\n--- Priority Chart ---\")\n",
        "butler.plot_priority_chart()\n",
        "\n",
        "print(\"\\n--- Urgency Pie Chart ---\")\n",
        "butler.plot_urgency_pie()\n"
      ],
      "metadata": {
        "id": "HWic7dBg_gbF",
        "colab": {
          "base_uri": "https://localhost:8080/",
          "height": 1000
        },
        "outputId": "9c47d40b-a535-475f-d1c8-b8e56666d99e"
      },
      "execution_count": null,
      "outputs": [
        {
          "output_type": "stream",
          "name": "stdout",
          "text": [
            "\n",
            "--- Priority Chart ---\n"
          ]
        },
        {
          "output_type": "stream",
          "name": "stderr",
          "text": [
            "<ipython-input-3-ca7a669fda75>:122: FutureWarning: \n",
            "\n",
            "Passing `palette` without assigning `hue` is deprecated and will be removed in v0.14.0. Assign the `y` variable to `hue` and set `legend=False` for the same effect.\n",
            "\n",
            "  sns.barplot(x='Priority Score', y='Task', data=df, palette='coolwarm')\n",
            "<ipython-input-3-ca7a669fda75>:126: UserWarning: Glyph 129504 (\\N{BRAIN}) missing from font(s) DejaVu Sans.\n",
            "  plt.tight_layout()\n",
            "/usr/local/lib/python3.11/dist-packages/IPython/core/pylabtools.py:151: UserWarning: Glyph 129504 (\\N{BRAIN}) missing from font(s) DejaVu Sans.\n",
            "  fig.canvas.print_figure(bytes_io, **kw)\n"
          ]
        },
        {
          "output_type": "display_data",
          "data": {
            "text/plain": [
              "<Figure size 1000x600 with 1 Axes>"
            ],
            "image/png": "[encoded data removed]"
          },
          "metadata": {}
        },
        {
          "output_type": "stream",
          "name": "stdout",
          "text": [
            "\n",
            "--- Urgency Pie Chart ---\n"
          ]
        },
        {
          "output_type": "stream",
          "name": "stderr",
          "text": [
            "/usr/local/lib/python3.11/dist-packages/IPython/core/pylabtools.py:151: UserWarning: Glyph 9989 (\\N{WHITE HEAVY CHECK MARK}) missing from font(s) DejaVu Sans.\n",
            "  fig.canvas.print_figure(bytes_io, **kw)\n"
          ]
        },
        {
          "output_type": "display_data",
          "data": {
            "text/plain": [
              "<Figure size 640x480 with 1 Axes>"
            ],
            "image/png": "[encoded data removed]"
          },
          "metadata": {}
        }
      ]
    }
  ]
}